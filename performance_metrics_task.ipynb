{
 "cells": [
  {
   "cell_type": "markdown",
   "metadata": {},
   "source": [
    "## Assignment\n",
    "We first read the csv file and try to find the unqiue values of columns"
   ]
  },
  {
   "cell_type": "code",
   "execution_count": 1,
   "metadata": {},
   "outputs": [
    {
     "data": {
      "text/html": [
       "<div>\n",
       "<style scoped>\n",
       "    .dataframe tbody tr th:only-of-type {\n",
       "        vertical-align: middle;\n",
       "    }\n",
       "\n",
       "    .dataframe tbody tr th {\n",
       "        vertical-align: top;\n",
       "    }\n",
       "\n",
       "    .dataframe thead th {\n",
       "        text-align: right;\n",
       "    }\n",
       "</style>\n",
       "<table border=\"1\" class=\"dataframe\">\n",
       "  <thead>\n",
       "    <tr style=\"text-align: right;\">\n",
       "      <th></th>\n",
       "      <th>guid</th>\n",
       "      <th>trade</th>\n",
       "      <th>classification_pl</th>\n",
       "      <th>classification_faces</th>\n",
       "      <th>classification_coverage</th>\n",
       "      <th>classification_spread_v1</th>\n",
       "      <th>classification_spread_and_density</th>\n",
       "      <th>classification_spread_or_density</th>\n",
       "      <th>label</th>\n",
       "    </tr>\n",
       "  </thead>\n",
       "  <tbody>\n",
       "    <tr>\n",
       "      <th>0</th>\n",
       "      <td>30HuwqWE50B9F09miqeGJO</td>\n",
       "      <td>Architectural</td>\n",
       "      <td>BC</td>\n",
       "      <td>NB</td>\n",
       "      <td>BC</td>\n",
       "      <td>BC</td>\n",
       "      <td>BC</td>\n",
       "      <td>BC</td>\n",
       "      <td>BC</td>\n",
       "    </tr>\n",
       "    <tr>\n",
       "      <th>1</th>\n",
       "      <td>1BAQmX_MX0tv9g_SVQh_Sb</td>\n",
       "      <td>MEP</td>\n",
       "      <td>NB</td>\n",
       "      <td>NB</td>\n",
       "      <td>BC</td>\n",
       "      <td>BC</td>\n",
       "      <td>NB</td>\n",
       "      <td>BC</td>\n",
       "      <td>BC</td>\n",
       "    </tr>\n",
       "    <tr>\n",
       "      <th>2</th>\n",
       "      <td>1BAQmX_MX0tv9g_SVQh_Sv</td>\n",
       "      <td>MEP</td>\n",
       "      <td>NB</td>\n",
       "      <td>NB</td>\n",
       "      <td>NB</td>\n",
       "      <td>BC</td>\n",
       "      <td>NB</td>\n",
       "      <td>BC</td>\n",
       "      <td>BC</td>\n",
       "    </tr>\n",
       "    <tr>\n",
       "      <th>3</th>\n",
       "      <td>1BAQmX_MX0tv9g_SVQh_Sz</td>\n",
       "      <td>MEP</td>\n",
       "      <td>NB</td>\n",
       "      <td>NB</td>\n",
       "      <td>BC</td>\n",
       "      <td>BC</td>\n",
       "      <td>NB</td>\n",
       "      <td>BC</td>\n",
       "      <td>BC</td>\n",
       "    </tr>\n",
       "    <tr>\n",
       "      <th>4</th>\n",
       "      <td>1BAQmX_MX0tv9g_SVQh_SA</td>\n",
       "      <td>MEP</td>\n",
       "      <td>NB</td>\n",
       "      <td>NB</td>\n",
       "      <td>BC</td>\n",
       "      <td>BC</td>\n",
       "      <td>NB</td>\n",
       "      <td>BC</td>\n",
       "      <td>BC</td>\n",
       "    </tr>\n",
       "    <tr>\n",
       "      <th>...</th>\n",
       "      <td>...</td>\n",
       "      <td>...</td>\n",
       "      <td>...</td>\n",
       "      <td>...</td>\n",
       "      <td>...</td>\n",
       "      <td>...</td>\n",
       "      <td>...</td>\n",
       "      <td>...</td>\n",
       "      <td>...</td>\n",
       "    </tr>\n",
       "    <tr>\n",
       "      <th>64068</th>\n",
       "      <td>0_detoZ7XFVuafxAMV7ZsX</td>\n",
       "      <td>MEP</td>\n",
       "      <td>NPC</td>\n",
       "      <td>NaN</td>\n",
       "      <td>NaN</td>\n",
       "      <td>NaN</td>\n",
       "      <td>NaN</td>\n",
       "      <td>NaN</td>\n",
       "      <td>NB</td>\n",
       "    </tr>\n",
       "    <tr>\n",
       "      <th>64069</th>\n",
       "      <td>0_detoZ7XFVuafxAMV7Zsa</td>\n",
       "      <td>MEP</td>\n",
       "      <td>NPC</td>\n",
       "      <td>NaN</td>\n",
       "      <td>NaN</td>\n",
       "      <td>NaN</td>\n",
       "      <td>NaN</td>\n",
       "      <td>NaN</td>\n",
       "      <td>NB</td>\n",
       "    </tr>\n",
       "    <tr>\n",
       "      <th>64070</th>\n",
       "      <td>3zsdyNKAX0HAJXgicD4qlq</td>\n",
       "      <td>MEP</td>\n",
       "      <td>BC</td>\n",
       "      <td>NB</td>\n",
       "      <td>BC</td>\n",
       "      <td>BC</td>\n",
       "      <td>NB</td>\n",
       "      <td>BC</td>\n",
       "      <td>BC</td>\n",
       "    </tr>\n",
       "    <tr>\n",
       "      <th>64071</th>\n",
       "      <td>1b$obD43PE3x_m9lf1jM2O</td>\n",
       "      <td>MEP</td>\n",
       "      <td>NB</td>\n",
       "      <td>NB</td>\n",
       "      <td>NB</td>\n",
       "      <td>BC</td>\n",
       "      <td>NB</td>\n",
       "      <td>BC</td>\n",
       "      <td>OOT</td>\n",
       "    </tr>\n",
       "    <tr>\n",
       "      <th>64072</th>\n",
       "      <td>3xx9CBdRr7IvtHJxx0QkgB</td>\n",
       "      <td>MEP</td>\n",
       "      <td>NB</td>\n",
       "      <td>NB</td>\n",
       "      <td>NB</td>\n",
       "      <td>BC</td>\n",
       "      <td>NB</td>\n",
       "      <td>BC</td>\n",
       "      <td>OOT</td>\n",
       "    </tr>\n",
       "  </tbody>\n",
       "</table>\n",
       "<p>64073 rows × 9 columns</p>\n",
       "</div>"
      ],
      "text/plain": [
       "                         guid          trade classification_pl  \\\n",
       "0      30HuwqWE50B9F09miqeGJO  Architectural                BC   \n",
       "1      1BAQmX_MX0tv9g_SVQh_Sb            MEP                NB   \n",
       "2      1BAQmX_MX0tv9g_SVQh_Sv            MEP                NB   \n",
       "3      1BAQmX_MX0tv9g_SVQh_Sz            MEP                NB   \n",
       "4      1BAQmX_MX0tv9g_SVQh_SA            MEP                NB   \n",
       "...                       ...            ...               ...   \n",
       "64068  0_detoZ7XFVuafxAMV7ZsX            MEP               NPC   \n",
       "64069  0_detoZ7XFVuafxAMV7Zsa            MEP               NPC   \n",
       "64070  3zsdyNKAX0HAJXgicD4qlq            MEP                BC   \n",
       "64071  1b$obD43PE3x_m9lf1jM2O            MEP                NB   \n",
       "64072  3xx9CBdRr7IvtHJxx0QkgB            MEP                NB   \n",
       "\n",
       "      classification_faces classification_coverage classification_spread_v1  \\\n",
       "0                       NB                      BC                       BC   \n",
       "1                       NB                      BC                       BC   \n",
       "2                       NB                      NB                       BC   \n",
       "3                       NB                      BC                       BC   \n",
       "4                       NB                      BC                       BC   \n",
       "...                    ...                     ...                      ...   \n",
       "64068                  NaN                     NaN                      NaN   \n",
       "64069                  NaN                     NaN                      NaN   \n",
       "64070                   NB                      BC                       BC   \n",
       "64071                   NB                      NB                       BC   \n",
       "64072                   NB                      NB                       BC   \n",
       "\n",
       "      classification_spread_and_density classification_spread_or_density label  \n",
       "0                                    BC                               BC    BC  \n",
       "1                                    NB                               BC    BC  \n",
       "2                                    NB                               BC    BC  \n",
       "3                                    NB                               BC    BC  \n",
       "4                                    NB                               BC    BC  \n",
       "...                                 ...                              ...   ...  \n",
       "64068                               NaN                              NaN    NB  \n",
       "64069                               NaN                              NaN    NB  \n",
       "64070                                NB                               BC    BC  \n",
       "64071                                NB                               BC   OOT  \n",
       "64072                                NB                               BC   OOT  \n",
       "\n",
       "[64073 rows x 9 columns]"
      ]
     },
     "execution_count": 1,
     "metadata": {},
     "output_type": "execute_result"
    }
   ],
   "source": [
    "import pandas as pd\n",
    "#reading main data file. when resources constrained, we could use the chunksize option of read_csv\n",
    "main_df = pd.read_csv(\"coding_challenge.csv\")\n",
    "main_df"
   ]
  },
  {
   "cell_type": "code",
   "execution_count": 2,
   "metadata": {},
   "outputs": [
    {
     "name": "stdout",
     "output_type": "stream",
     "text": [
      "['Architectural' 'MEP' 'Structural'] ['BC' 'NB' 'OOT']\n"
     ]
    }
   ],
   "source": [
    "print(main_df.trade.unique(),main_df.label.unique())"
   ]
  },
  {
   "cell_type": "markdown",
   "metadata": {},
   "source": [
    "A lot of NaN values seen. Another class seen in classificaiton_pl's output : NPC. We see that The NaN/NPC classes have the exact same count across all classifiers i.e The classifiers either al predict a class or all predict a NULL class. Since we are comparing the classifiers with each other, we could get rid of the cases where none of the classifiers predict a class\n",
    "\n",
    "In the next cell we take a closer look at the distribution of trades and labels"
   ]
  },
  {
   "cell_type": "code",
   "execution_count": 3,
   "metadata": {},
   "outputs": [
    {
     "name": "stdout",
     "output_type": "stream",
     "text": [
      "\n",
      "Unique Values of column : trade  :  ['Architectural' 'MEP' 'Structural']\n",
      "Architectural : 22200     Percentage: 34.647979648213756\n",
      "MEP : 41601     Percentage: 64.92750456510544\n",
      "Structural : 272     Percentage: 0.42451578668081713\n",
      "\n",
      "Unique Values of column : classification_pl  :  ['BC' 'NB' 'OOT' 'NUL']\n",
      "BC : 3359     Percentage: 5.242457821547298\n",
      "NB : 12621     Percentage: 19.697844645950713\n",
      "OOT : 11     Percentage: 0.01716791784370952\n",
      "NUL : 48082     Percentage: 75.04252961465828\n",
      "\n",
      "Unique Values of column : classification_faces  :  ['NB' 'BC' 'OOT' 'NUL']\n",
      "NB : 14183     Percentage: 22.135688979757465\n",
      "BC : 1789     Percentage: 2.792127729308757\n",
      "OOT : 19     Percentage: 0.029653676275498263\n",
      "NUL : 48082     Percentage: 75.04252961465828\n",
      "\n",
      "Unique Values of column : classification_coverage  :  ['BC' 'NB' 'OOT' 'NUL']\n",
      "BC : 6945     Percentage: 10.8391990385966\n",
      "NB : 9008     Percentage: 14.058963994194123\n",
      "OOT : 38     Percentage: 0.05930735255099653\n",
      "NUL : 48082     Percentage: 75.04252961465828\n",
      "\n",
      "Unique Values of column : classification_spread_v1  :  ['BC' 'OOT' 'NB' 'NUL']\n",
      "BC : 11825     Percentage: 18.455511681987733\n",
      "OOT : 389     Percentage: 0.6071200037457276\n",
      "NB : 3777     Percentage: 5.894838699608259\n",
      "NUL : 48082     Percentage: 75.04252961465828\n",
      "\n",
      "Unique Values of column : classification_spread_and_density  :  ['BC' 'NB' 'OOT' 'NUL']\n",
      "BC : 2623     Percentage: 4.093768045822734\n",
      "NB : 13087     Percentage: 20.425140074602407\n",
      "OOT : 281     Percentage: 0.4385622649165795\n",
      "NUL : 48082     Percentage: 75.04252961465828\n",
      "\n",
      "Unique Values of column : classification_spread_or_density  :  ['BC' 'OOT' 'NB' 'NUL']\n",
      "BC : 10255     Percentage: 16.005181589749192\n",
      "OOT : 1041     Percentage: 1.6247093159365098\n",
      "NB : 4695     Percentage: 7.327579479656017\n",
      "NUL : 48082     Percentage: 75.04252961465828\n",
      "\n",
      "Unique Values of column : label  :  ['BC' 'NB' 'OOT']\n",
      "BC : 39917     Percentage: 62.2992524152139\n",
      "NB : 17311     Percentage: 27.01762052658686\n",
      "OOT : 6845     Percentage: 10.683127058199242\n"
     ]
    }
   ],
   "source": [
    "import numpy as np\n",
    "entries = len(main_df.index)\n",
    "main_df = main_df.replace(np.nan, 'NUL')\n",
    "main_df = main_df.replace('NPC','NUL' )\n",
    "for col in main_df.columns[1:]:\n",
    "    unique_value_list = main_df[col].unique()\n",
    "    print('\\nUnique Values of column :',col,' : ',unique_value_list)\n",
    "    for val in unique_value_list:\n",
    "        c = (main_df[col].values == val).sum()\n",
    "        print(val,':',c,'    Percentage:',c/entries*100 )\n",
    "    \n",
    "\n"
   ]
  },
  {
   "cell_type": "markdown",
   "metadata": {},
   "source": [
    "In the next cell we basically confirm that all the classifiers give NULL output together"
   ]
  },
  {
   "cell_type": "code",
   "execution_count": 4,
   "metadata": {},
   "outputs": [
    {
     "data": {
      "text/plain": [
       "array([0, 6])"
      ]
     },
     "execution_count": 4,
     "metadata": {},
     "output_type": "execute_result"
    }
   ],
   "source": [
    "def f(row):\n",
    "    summer = 0\n",
    "    for col in main_df.columns[1:-1]:\n",
    "        if row[col]== 'NUL':\n",
    "            summer+=1\n",
    "    return summer\n",
    "\n",
    "main_df['NUL_C'] = main_df.apply(f, axis=1)\n",
    "main_df.NUL_C.unique()"
   ]
  },
  {
   "cell_type": "code",
   "execution_count": null,
   "metadata": {},
   "outputs": [],
   "source": []
  },
  {
   "cell_type": "markdown",
   "metadata": {},
   "source": [
    "In the next cell, we remove all null valued entries since we are tasked with comparing the classifier performance. We create a new Dataframe: clean_df that has the non-null entries only. We now check the distribution of entries and find that the null valued entries made up a large chunk of the original entries. \n",
    "We also simultaneously build a sort of confusion matrix to be populated in the coming cells. We build a matrix for each classifier, and each matrix has class-wise observation values."
   ]
  },
  {
   "cell_type": "code",
   "execution_count": 5,
   "metadata": {},
   "outputs": [
    {
     "name": "stdout",
     "output_type": "stream",
     "text": [
      "Architectural : 6764\n",
      "MEP : 9052\n",
      "Structural : 175\n",
      "Main DF length: 64073  Clean DF Length: 15991\n",
      "\n",
      "classifier:  classification_pl\n",
      "BC : 3359\n",
      "NB : 12621\n",
      "OOT : 11\n",
      "\n",
      "classifier:  classification_faces\n",
      "BC : 1789\n",
      "NB : 14183\n",
      "OOT : 19\n",
      "\n",
      "classifier:  classification_coverage\n",
      "BC : 6945\n",
      "NB : 9008\n",
      "OOT : 38\n",
      "\n",
      "classifier:  classification_spread_v1\n",
      "BC : 11825\n",
      "NB : 3777\n",
      "OOT : 389\n",
      "\n",
      "classifier:  classification_spread_and_density\n",
      "BC : 2623\n",
      "NB : 13087\n",
      "OOT : 281\n",
      "\n",
      "classifier:  classification_spread_or_density\n",
      "BC : 10255\n",
      "NB : 4695\n",
      "OOT : 1041\n"
     ]
    }
   ],
   "source": [
    "clean_df = main_df[main_df.NUL_C != 6]\n",
    "\n",
    "for val in clean_df['trade'].unique():\n",
    "        c = (clean_df['trade'].values == val).sum()\n",
    "        print(val,':',c)\n",
    "print('Main DF length:',len(main_df),' Clean DF Length:',len(clean_df))\n",
    "classifier_metrics_df_list = []\n",
    "zeros = [0.00,0.00,0.00]\n",
    "for col in clean_df.columns[2:8]:\n",
    "    print('\\nclassifier: ',col)\n",
    "    unique_value_list = ['BC','NB','OOT']\n",
    "    for val in unique_value_list:\n",
    "        c = (clean_df[col].values == val).sum()\n",
    "        print(val,':',c, )\n",
    "    init_dict  = {'class':unique_value_list,'TP':zeros,'TN':zeros,'FP':zeros,'FN':zeros,'Acc':zeros,'Pr':zeros,'Rc':zeros,'F1':zeros}\n",
    "    classifier_df = pd.DataFrame(init_dict)\n",
    "    classifier_df = classifier_df.set_index('class')\n",
    "    classifier_df.name = col\n",
    "    classifier_metrics_df_list.append(classifier_df)\n",
    "    \n"
   ]
  },
  {
   "cell_type": "code",
   "execution_count": 6,
   "metadata": {},
   "outputs": [
    {
     "name": "stdout",
     "output_type": "stream",
     "text": [
      "classification_pl \n",
      "         TP   TN   FP   FN  Acc   Pr   Rc   F1\n",
      "class                                        \n",
      "BC     0.0  0.0  0.0  0.0  0.0  0.0  0.0  0.0\n",
      "NB     0.0  0.0  0.0  0.0  0.0  0.0  0.0  0.0\n",
      "OOT    0.0  0.0  0.0  0.0  0.0  0.0  0.0  0.0 \n",
      "\n",
      "classification_faces \n",
      "         TP   TN   FP   FN  Acc   Pr   Rc   F1\n",
      "class                                        \n",
      "BC     0.0  0.0  0.0  0.0  0.0  0.0  0.0  0.0\n",
      "NB     0.0  0.0  0.0  0.0  0.0  0.0  0.0  0.0\n",
      "OOT    0.0  0.0  0.0  0.0  0.0  0.0  0.0  0.0 \n",
      "\n",
      "classification_coverage \n",
      "         TP   TN   FP   FN  Acc   Pr   Rc   F1\n",
      "class                                        \n",
      "BC     0.0  0.0  0.0  0.0  0.0  0.0  0.0  0.0\n",
      "NB     0.0  0.0  0.0  0.0  0.0  0.0  0.0  0.0\n",
      "OOT    0.0  0.0  0.0  0.0  0.0  0.0  0.0  0.0 \n",
      "\n",
      "classification_spread_v1 \n",
      "         TP   TN   FP   FN  Acc   Pr   Rc   F1\n",
      "class                                        \n",
      "BC     0.0  0.0  0.0  0.0  0.0  0.0  0.0  0.0\n",
      "NB     0.0  0.0  0.0  0.0  0.0  0.0  0.0  0.0\n",
      "OOT    0.0  0.0  0.0  0.0  0.0  0.0  0.0  0.0 \n",
      "\n",
      "classification_spread_and_density \n",
      "         TP   TN   FP   FN  Acc   Pr   Rc   F1\n",
      "class                                        \n",
      "BC     0.0  0.0  0.0  0.0  0.0  0.0  0.0  0.0\n",
      "NB     0.0  0.0  0.0  0.0  0.0  0.0  0.0  0.0\n",
      "OOT    0.0  0.0  0.0  0.0  0.0  0.0  0.0  0.0 \n",
      "\n",
      "classification_spread_or_density \n",
      "         TP   TN   FP   FN  Acc   Pr   Rc   F1\n",
      "class                                        \n",
      "BC     0.0  0.0  0.0  0.0  0.0  0.0  0.0  0.0\n",
      "NB     0.0  0.0  0.0  0.0  0.0  0.0  0.0  0.0\n",
      "OOT    0.0  0.0  0.0  0.0  0.0  0.0  0.0  0.0 \n",
      "\n"
     ]
    }
   ],
   "source": [
    "#The empty confusion matrices for each classifier can be seen below\n",
    "for d in classifier_metrics_df_list:\n",
    "    print(d.name,'\\n',d,'\\n')"
   ]
  },
  {
   "cell_type": "markdown",
   "metadata": {},
   "source": [
    "We now populate these confusion matrices. We run a single df.apply() funciton wherein we calculate the binary Truth values for each class of each classifier in a One vs Rest manner. This is done to lower computation cost and time as calculating TP, TN, FP, and FN values for the whole data can be done in just 1 iteration over the data."
   ]
  },
  {
   "cell_type": "code",
   "execution_count": 7,
   "metadata": {},
   "outputs": [
    {
     "name": "stdout",
     "output_type": "stream",
     "text": [
      "finished processing 15991 rows\n"
     ]
    }
   ],
   "source": [
    "len_of_data = len(clean_df)\n",
    "def f(row):    \n",
    "    for classifier in classifier_metrics_df_list:\n",
    "        classifier_name = classifier.name\n",
    "        for class_name in ['BC','NB','OOT']:\n",
    "            if row[classifier_name]==class_name:\n",
    "                if row['label']==class_name:\n",
    "                    classifier.loc[class_name]['TP'] += 1\n",
    "                else:\n",
    "                    classifier.loc[class_name]['FP'] += 1\n",
    "            else:\n",
    "                if row['label']==class_name:\n",
    "                    classifier.loc[class_name]['FN'] += 1\n",
    "                else:\n",
    "                    classifier.loc[class_name]['TN'] += 1\n",
    "\n",
    "        \n",
    "\n",
    "clean_df.apply(f, axis=1)\n",
    "print('finished processing %d rows' % len_of_data)"
   ]
  },
  {
   "cell_type": "markdown",
   "metadata": {},
   "source": [
    "We now calculate the performance metrics in each of these matrices using the values of TP, TN, FP, and FN calculated above. We thus generate the Accuracy, Precision, Recall, and F1 Score and display the final class-wise confusion matrices."
   ]
  },
  {
   "cell_type": "code",
   "execution_count": 8,
   "metadata": {},
   "outputs": [
    {
     "name": "stdout",
     "output_type": "stream",
     "text": [
      "classification_pl \n",
      "            TP       TN      FP      FN       Acc        Pr        Rc        F1\n",
      "class                                                                         \n",
      "BC     2251.0   4290.0  1108.0  8342.0  0.409043  0.670140  0.212499  0.322678\n",
      "NB     2723.0   2535.0  9898.0   835.0  0.328810  0.215752  0.765318  0.336609\n",
      "OOT       1.0  14141.0    10.0  1839.0  0.884372  0.090909  0.000543  0.001080 \n",
      "\n",
      "classification_faces \n",
      "            TP       TN       FP      FN       Acc        Pr        Rc  \\\n",
      "class                                                                   \n",
      "BC     1095.0   4704.0    694.0  9498.0  0.362641  0.612074  0.103370   \n",
      "NB     3026.0   1276.0  11157.0   532.0  0.269026  0.213354  0.850478   \n",
      "OOT       6.0  14138.0     13.0  1834.0  0.884498  0.315789  0.003261   \n",
      "\n",
      "             F1  \n",
      "class            \n",
      "BC     0.176870  \n",
      "NB     0.341131  \n",
      "OOT    0.006455   \n",
      "\n",
      "classification_coverage \n",
      "            TP       TN      FP      FN       Acc        Pr        Rc        F1\n",
      "class                                                                         \n",
      "BC     5462.0   3915.0  1483.0  5131.0  0.586392  0.786465  0.515624  0.622876\n",
      "NB     2635.0   6060.0  6373.0   923.0  0.543743  0.292518  0.740585  0.419386\n",
      "OOT       9.0  14122.0    29.0  1831.0  0.883685  0.236842  0.004891  0.009585 \n",
      "\n",
      "classification_spread_v1 \n",
      "            TP       TN      FP      FN       Acc        Pr        Rc        F1\n",
      "class                                                                         \n",
      "BC     9050.0   2623.0  2775.0  1543.0  0.729973  0.765328  0.854338  0.807387\n",
      "NB     1978.0  10634.0  1799.0  1580.0  0.788694  0.523696  0.555930  0.539332\n",
      "OOT     124.0  13886.0   265.0  1716.0  0.876118  0.318766  0.067391  0.111261 \n",
      "\n",
      "classification_spread_and_density \n",
      "            TP       TN      FP      FN       Acc        Pr        Rc        F1\n",
      "class                                                                         \n",
      "BC     2058.0   4833.0   565.0  8535.0  0.430930  0.784598  0.194279  0.311441\n",
      "NB     3108.0   2454.0  9979.0   450.0  0.347821  0.237488  0.873524  0.373445\n",
      "OOT      79.0  13949.0   202.0  1761.0  0.877243  0.281139  0.042935  0.074493 \n",
      "\n",
      "classification_spread_or_density \n",
      "            TP       TN      FP      FN       Acc        Pr        Rc        F1\n",
      "class                                                                         \n",
      "BC     8497.0   3640.0  1758.0  2096.0  0.758989  0.828571  0.802133  0.815138\n",
      "NB     2382.0  10120.0  2313.0  1176.0  0.781815  0.507348  0.669477  0.577245\n",
      "OOT     472.0  13582.0   569.0  1368.0  0.878869  0.453410  0.256522  0.327664 \n",
      "\n"
     ]
    }
   ],
   "source": [
    "for classifier in classifier_metrics_df_list:\n",
    "    for class_name in ['BC','NB','OOT']:\n",
    "        classifier.loc[class_name]['Acc'] = (classifier.loc[class_name]['TP'] + classifier.loc[class_name]['TN'])/len_of_data\n",
    "        classifier.loc[class_name]['Pr'] = classifier.loc[class_name]['TP'] / (classifier.loc[class_name]['TP']+classifier.loc[class_name]['FP'])\n",
    "        classifier.loc[class_name]['Rc'] = classifier.loc[class_name]['TP'] / (classifier.loc[class_name]['TP']+classifier.loc[class_name]['FN'])\n",
    "        classifier.loc[class_name]['F1'] = 2*( classifier.loc[class_name]['Pr']*classifier.loc[class_name]['Rc']) / (classifier.loc[class_name]['Pr']+classifier.loc[class_name]['Rc'])\n",
    "    #print(classifier)\n",
    "    print(classifier.name,'\\n',classifier,'\\n')"
   ]
  },
  {
   "cell_type": "markdown",
   "metadata": {},
   "source": [
    "We now compute the average Performance metrics of Acc, Precision, Recall, and F1 score and display the results per classifier. Normal averaging is done here across all labels, weighted mean can also be used if we have an idea of the importance of each label/class used."
   ]
  },
  {
   "cell_type": "code",
   "execution_count": 9,
   "metadata": {},
   "outputs": [
    {
     "data": {
      "text/html": [
       "<div>\n",
       "<style scoped>\n",
       "    .dataframe tbody tr th:only-of-type {\n",
       "        vertical-align: middle;\n",
       "    }\n",
       "\n",
       "    .dataframe tbody tr th {\n",
       "        vertical-align: top;\n",
       "    }\n",
       "\n",
       "    .dataframe thead th {\n",
       "        text-align: right;\n",
       "    }\n",
       "</style>\n",
       "<table border=\"1\" class=\"dataframe\">\n",
       "  <thead>\n",
       "    <tr style=\"text-align: right;\">\n",
       "      <th></th>\n",
       "      <th>Accuracy</th>\n",
       "      <th>Precision</th>\n",
       "      <th>Recall</th>\n",
       "      <th>F1</th>\n",
       "    </tr>\n",
       "    <tr>\n",
       "      <th>classifier</th>\n",
       "      <th></th>\n",
       "      <th></th>\n",
       "      <th></th>\n",
       "      <th></th>\n",
       "    </tr>\n",
       "  </thead>\n",
       "  <tbody>\n",
       "    <tr>\n",
       "      <th>classification_pl</th>\n",
       "      <td>0.540742</td>\n",
       "      <td>0.325600</td>\n",
       "      <td>0.326120</td>\n",
       "      <td>0.220122</td>\n",
       "    </tr>\n",
       "    <tr>\n",
       "      <th>classification_faces</th>\n",
       "      <td>0.505388</td>\n",
       "      <td>0.380406</td>\n",
       "      <td>0.319036</td>\n",
       "      <td>0.174818</td>\n",
       "    </tr>\n",
       "    <tr>\n",
       "      <th>classification_coverage</th>\n",
       "      <td>0.671273</td>\n",
       "      <td>0.438608</td>\n",
       "      <td>0.420366</td>\n",
       "      <td>0.350615</td>\n",
       "    </tr>\n",
       "    <tr>\n",
       "      <th>classification_spread_v1</th>\n",
       "      <td>0.798262</td>\n",
       "      <td>0.535930</td>\n",
       "      <td>0.492553</td>\n",
       "      <td>0.485993</td>\n",
       "    </tr>\n",
       "    <tr>\n",
       "      <th>classification_spread_and_density</th>\n",
       "      <td>0.551998</td>\n",
       "      <td>0.434408</td>\n",
       "      <td>0.370246</td>\n",
       "      <td>0.253126</td>\n",
       "    </tr>\n",
       "    <tr>\n",
       "      <th>classification_spread_or_density</th>\n",
       "      <td>0.806558</td>\n",
       "      <td>0.596443</td>\n",
       "      <td>0.576044</td>\n",
       "      <td>0.573349</td>\n",
       "    </tr>\n",
       "  </tbody>\n",
       "</table>\n",
       "</div>"
      ],
      "text/plain": [
       "                                   Accuracy  Precision    Recall        F1\n",
       "classifier                                                                \n",
       "classification_pl                  0.540742   0.325600  0.326120  0.220122\n",
       "classification_faces               0.505388   0.380406  0.319036  0.174818\n",
       "classification_coverage            0.671273   0.438608  0.420366  0.350615\n",
       "classification_spread_v1           0.798262   0.535930  0.492553  0.485993\n",
       "classification_spread_and_density  0.551998   0.434408  0.370246  0.253126\n",
       "classification_spread_or_density   0.806558   0.596443  0.576044  0.573349"
      ]
     },
     "execution_count": 9,
     "metadata": {},
     "output_type": "execute_result"
    }
   ],
   "source": [
    "#Computing Average performance scores\n",
    "avg_results_dict= {'classifier':[],'Accuracy':[],'Precision':[],'Recall':[],'F1':[]}\n",
    "for classifier in classifier_metrics_df_list:\n",
    "    avg_results_dict['classifier'].append(classifier.name)\n",
    "    avg_results_dict['Accuracy'].append(classifier['Acc'].sum()/3)\n",
    "    avg_results_dict['Precision'].append(classifier['Pr'].sum()/3)\n",
    "    avg_results_dict['Recall'].append(classifier['Rc'].sum()/3)\n",
    "    avg_results_dict['F1'].append(classifier['F1'].sum()/3)\n",
    "avg_results_df = pd.DataFrame(avg_results_dict)\n",
    "avg_results_df.set_index('classifier',inplace=True)\n",
    "avg_results_df\n",
    "    "
   ]
  },
  {
   "cell_type": "code",
   "execution_count": 11,
   "metadata": {
    "scrolled": true
   },
   "outputs": [
    {
     "data": {
      "image/png": "[encoded data removed]",
      "text/plain": [
       "<Figure size 1368x648 with 1 Axes>"
      ]
     },
     "metadata": {
      "needs_background": "light"
     },
     "output_type": "display_data"
    }
   ],
   "source": [
    "\n",
    "ax1 = avg_results_df.plot.bar(rot=0,figsize=(19,9))"
   ]
  },
  {
   "cell_type": "markdown",
   "metadata": {},
   "source": [
    "We can observe that the last classifier i.e 'classifier_spread_or_density' has the best accuracy along with the best average performance of all other indicators of Pr, Recall, and F1 score.\n",
    "\n",
    "For the next part of the question, We only calculate the metrics for OOT labels. For this we just have to choose from the relevant OOT rows from the already calculated confusion matrices and plot the results"
   ]
  },
  {
   "cell_type": "code",
   "execution_count": 12,
   "metadata": {},
   "outputs": [
    {
     "data": {
      "text/html": [
       "<div>\n",
       "<style scoped>\n",
       "    .dataframe tbody tr th:only-of-type {\n",
       "        vertical-align: middle;\n",
       "    }\n",
       "\n",
       "    .dataframe tbody tr th {\n",
       "        vertical-align: top;\n",
       "    }\n",
       "\n",
       "    .dataframe thead th {\n",
       "        text-align: right;\n",
       "    }\n",
       "</style>\n",
       "<table border=\"1\" class=\"dataframe\">\n",
       "  <thead>\n",
       "    <tr style=\"text-align: right;\">\n",
       "      <th></th>\n",
       "      <th>Accuracy</th>\n",
       "      <th>Precision</th>\n",
       "      <th>Recall</th>\n",
       "      <th>F1</th>\n",
       "    </tr>\n",
       "    <tr>\n",
       "      <th>classifier</th>\n",
       "      <th></th>\n",
       "      <th></th>\n",
       "      <th></th>\n",
       "      <th></th>\n",
       "    </tr>\n",
       "  </thead>\n",
       "  <tbody>\n",
       "    <tr>\n",
       "      <th>classification_pl</th>\n",
       "      <td>0.884372</td>\n",
       "      <td>0.090909</td>\n",
       "      <td>0.000543</td>\n",
       "      <td>0.001080</td>\n",
       "    </tr>\n",
       "    <tr>\n",
       "      <th>classification_faces</th>\n",
       "      <td>0.884498</td>\n",
       "      <td>0.315789</td>\n",
       "      <td>0.003261</td>\n",
       "      <td>0.006455</td>\n",
       "    </tr>\n",
       "    <tr>\n",
       "      <th>classification_coverage</th>\n",
       "      <td>0.883685</td>\n",
       "      <td>0.236842</td>\n",
       "      <td>0.004891</td>\n",
       "      <td>0.009585</td>\n",
       "    </tr>\n",
       "    <tr>\n",
       "      <th>classification_spread_v1</th>\n",
       "      <td>0.876118</td>\n",
       "      <td>0.318766</td>\n",
       "      <td>0.067391</td>\n",
       "      <td>0.111261</td>\n",
       "    </tr>\n",
       "    <tr>\n",
       "      <th>classification_spread_and_density</th>\n",
       "      <td>0.877243</td>\n",
       "      <td>0.281139</td>\n",
       "      <td>0.042935</td>\n",
       "      <td>0.074493</td>\n",
       "    </tr>\n",
       "    <tr>\n",
       "      <th>classification_spread_or_density</th>\n",
       "      <td>0.878869</td>\n",
       "      <td>0.453410</td>\n",
       "      <td>0.256522</td>\n",
       "      <td>0.327664</td>\n",
       "    </tr>\n",
       "  </tbody>\n",
       "</table>\n",
       "</div>"
      ],
      "text/plain": [
       "                                   Accuracy  Precision    Recall        F1\n",
       "classifier                                                                \n",
       "classification_pl                  0.884372   0.090909  0.000543  0.001080\n",
       "classification_faces               0.884498   0.315789  0.003261  0.006455\n",
       "classification_coverage            0.883685   0.236842  0.004891  0.009585\n",
       "classification_spread_v1           0.876118   0.318766  0.067391  0.111261\n",
       "classification_spread_and_density  0.877243   0.281139  0.042935  0.074493\n",
       "classification_spread_or_density   0.878869   0.453410  0.256522  0.327664"
      ]
     },
     "execution_count": 12,
     "metadata": {},
     "output_type": "execute_result"
    }
   ],
   "source": [
    "#OOT performance\n",
    "oot_results_dict= {'classifier':[],'Accuracy':[],'Precision':[],'Recall':[],'F1':[]}\n",
    "for classifier in classifier_metrics_df_list:\n",
    "    oot_results_dict['classifier'].append(classifier.name)\n",
    "    oot_results_dict['Accuracy'].append(classifier.loc['OOT']['Acc'])\n",
    "    oot_results_dict['Precision'].append(classifier.loc['OOT']['Pr'])\n",
    "    oot_results_dict['Recall'].append(classifier.loc['OOT']['Rc'])\n",
    "    oot_results_dict['F1'].append(classifier.loc['OOT']['F1'])\n",
    "oot_results_df = pd.DataFrame(oot_results_dict)\n",
    "oot_results_df.set_index('classifier',inplace=True)\n",
    "oot_results_df"
   ]
  },
  {
   "cell_type": "code",
   "execution_count": 13,
   "metadata": {},
   "outputs": [
    {
     "data": {
      "image/png": "[encoded data removed]",
      "text/plain": [
       "<Figure size 1440x720 with 1 Axes>"
      ]
     },
     "metadata": {
      "needs_background": "light"
     },
     "output_type": "display_data"
    }
   ],
   "source": [
    "ax2 = oot_results_df.plot.bar(rot=0,figsize=(20,10))"
   ]
  },
  {
   "cell_type": "markdown",
   "metadata": {},
   "source": [
    "We again see that the last classifier performs best overall.\n",
    "\n",
    "We now only get the rows that belong to the trade: MEP from the clean_df and run the exact same operations we ran on clean_df to generate new confusion metrices"
   ]
  },
  {
   "cell_type": "code",
   "execution_count": 14,
   "metadata": {},
   "outputs": [
    {
     "name": "stdout",
     "output_type": "stream",
     "text": [
      "\n",
      "classifier:  classification_pl\n",
      "BC : 671\n",
      "NB : 8378\n",
      "OOT : 3\n",
      "\n",
      "classifier:  classification_faces\n",
      "BC : 323\n",
      "NB : 8728\n",
      "OOT : 1\n",
      "\n",
      "classifier:  classification_coverage\n",
      "BC : 3597\n",
      "NB : 5446\n",
      "OOT : 9\n",
      "\n",
      "classifier:  classification_spread_v1\n",
      "BC : 7233\n",
      "NB : 1638\n",
      "OOT : 181\n",
      "\n",
      "classifier:  classification_spread_and_density\n",
      "BC : 617\n",
      "NB : 8414\n",
      "OOT : 21\n",
      "\n",
      "classifier:  classification_spread_or_density\n",
      "BC : 6717\n",
      "NB : 1683\n",
      "OOT : 652\n"
     ]
    }
   ],
   "source": [
    "met_df = clean_df.loc[clean_df['trade'] == 'MEP' ]\n",
    "classifier_metrics_df_list = []\n",
    "zeros = [0.00,0.00,0.00]\n",
    "for col in met_df.columns[2:8]:\n",
    "    print('\\nclassifier: ',col)\n",
    "    unique_value_list = ['BC','NB','OOT']\n",
    "    for val in unique_value_list:\n",
    "        c = (met_df[col].values == val).sum()\n",
    "        print(val,':',c, )\n",
    "    init_dict  = {'class':unique_value_list,'TP':zeros,'TN':zeros,'FP':zeros,'FN':zeros,'Acc':zeros,'Pr':zeros,'Rc':zeros,'F1':zeros}\n",
    "    classifier_df = pd.DataFrame(init_dict)\n",
    "    classifier_df = classifier_df.set_index('class')\n",
    "    classifier_df.name = col\n",
    "    classifier_metrics_df_list.append(classifier_df)\n"
   ]
  },
  {
   "cell_type": "code",
   "execution_count": 15,
   "metadata": {},
   "outputs": [
    {
     "name": "stdout",
     "output_type": "stream",
     "text": [
      "finished processing 9052 rows\n"
     ]
    }
   ],
   "source": [
    "len_of_met_data = len(met_df)\n",
    "def f(row):    \n",
    "    for classifier in classifier_metrics_df_list:\n",
    "        classifier_name = classifier.name\n",
    "        for class_name in ['BC','NB','OOT']:\n",
    "            if row[classifier_name]==class_name:\n",
    "                if row['label']==class_name:\n",
    "                    classifier.loc[class_name]['TP'] += 1\n",
    "                else:\n",
    "                    classifier.loc[class_name]['FP'] += 1\n",
    "            else:\n",
    "                if row['label']==class_name:\n",
    "                    classifier.loc[class_name]['FN'] += 1\n",
    "                else:\n",
    "                    classifier.loc[class_name]['TN'] += 1\n",
    "\n",
    "        \n",
    "\n",
    "met_df.apply(f, axis=1)\n",
    "print('finished processing %d rows' % len_of_met_data)"
   ]
  },
  {
   "cell_type": "code",
   "execution_count": 16,
   "metadata": {},
   "outputs": [
    {
     "name": "stdout",
     "output_type": "stream",
     "text": [
      "classification_pl \n",
      "            TP      TN      FP      FN       Acc        Pr        Rc        F1\n",
      "class                                                                        \n",
      "BC      515.0  2712.0   156.0  5669.0  0.356496  0.767511  0.083279  0.150255\n",
      "NB     1590.0   593.0  6788.0    81.0  0.241162  0.189783  0.951526  0.316449\n",
      "OOT       0.0  7852.0     3.0  1197.0  0.867433  0.000000  0.000000       NaN \n",
      "\n",
      "classification_faces \n",
      "            TP      TN      FP      FN       Acc        Pr        Rc        F1\n",
      "class                                                                        \n",
      "BC      243.0  2788.0    80.0  5941.0  0.334843  0.752322  0.039295  0.074689\n",
      "NB     1641.0   294.0  7087.0    30.0  0.213765  0.188016  0.982047  0.315607\n",
      "OOT       0.0  7854.0     1.0  1197.0  0.867654  0.000000  0.000000       NaN \n",
      "\n",
      "classification_coverage \n",
      "            TP      TN      FP      FN       Acc        Pr        Rc        F1\n",
      "class                                                                        \n",
      "BC     3043.0  2314.0   554.0  3141.0  0.591803  0.845983  0.492076  0.622227\n",
      "NB     1441.0  3376.0  4005.0   230.0  0.532148  0.264598  0.862358  0.404946\n",
      "OOT       1.0  7847.0     8.0  1196.0  0.866991  0.111111  0.000835  0.001658 \n",
      "\n",
      "classification_spread_v1 \n",
      "            TP      TN      FP      FN       Acc        Pr        Rc        F1\n",
      "class                                                                        \n",
      "BC     5658.0  1293.0  1575.0   526.0  0.767897  0.782248  0.914942  0.843408\n",
      "NB      997.0  6740.0   641.0   674.0  0.854728  0.608669  0.596649  0.602599\n",
      "OOT      70.0  7744.0   111.0  1127.0  0.863235  0.386740  0.058480  0.101597 \n",
      "\n",
      "classification_spread_and_density \n",
      "            TP      TN      FP      FN       Acc        Pr        Rc        F1\n",
      "class                                                                        \n",
      "BC      425.0  2676.0   192.0  5759.0  0.342576  0.688817  0.068726  0.124982\n",
      "NB     1624.0   591.0  6790.0    47.0  0.244697  0.193012  0.971873  0.322062\n",
      "OOT       9.0  7843.0    12.0  1188.0  0.867433  0.428571  0.007519  0.014778 \n",
      "\n",
      "classification_spread_or_density \n",
      "            TP      TN      FP     FN       Acc        Pr        Rc        F1\n",
      "class                                                                       \n",
      "BC     5573.0  1724.0  1144.0  611.0  0.806120  0.829686  0.901197  0.863964\n",
      "NB     1010.0  6708.0   673.0  661.0  0.852629  0.600119  0.604428  0.602266\n",
      "OOT     336.0  7539.0   316.0  861.0  0.869973  0.515337  0.280702  0.363440 \n",
      "\n"
     ]
    },
    {
     "name": "stderr",
     "output_type": "stream",
     "text": [
      "<ipython-input-16-91b107ec1d42>:6: RuntimeWarning: invalid value encountered in double_scalars\n",
      "  classifier.loc[class_name]['F1'] = 2*( classifier.loc[class_name]['Pr']*classifier.loc[class_name]['Rc']) / (classifier.loc[class_name]['Pr']+classifier.loc[class_name]['Rc'])\n",
      "<ipython-input-16-91b107ec1d42>:6: RuntimeWarning: invalid value encountered in double_scalars\n",
      "  classifier.loc[class_name]['F1'] = 2*( classifier.loc[class_name]['Pr']*classifier.loc[class_name]['Rc']) / (classifier.loc[class_name]['Pr']+classifier.loc[class_name]['Rc'])\n"
     ]
    }
   ],
   "source": [
    "for classifier in classifier_metrics_df_list:\n",
    "    for class_name in ['BC','NB','OOT']:\n",
    "        classifier.loc[class_name]['Acc'] = (classifier.loc[class_name]['TP'] + classifier.loc[class_name]['TN'])/len_of_met_data\n",
    "        classifier.loc[class_name]['Pr'] = classifier.loc[class_name]['TP'] / (classifier.loc[class_name]['TP']+classifier.loc[class_name]['FP'])\n",
    "        classifier.loc[class_name]['Rc'] = classifier.loc[class_name]['TP'] / (classifier.loc[class_name]['TP']+classifier.loc[class_name]['FN'])\n",
    "        classifier.loc[class_name]['F1'] = 2*( classifier.loc[class_name]['Pr']*classifier.loc[class_name]['Rc']) / (classifier.loc[class_name]['Pr']+classifier.loc[class_name]['Rc'])\n",
    "    #print(classifier)\n",
    "    print(classifier.name,'\\n',classifier,'\\n')"
   ]
  },
  {
   "cell_type": "code",
   "execution_count": 17,
   "metadata": {},
   "outputs": [
    {
     "data": {
      "text/html": [
       "<div>\n",
       "<style scoped>\n",
       "    .dataframe tbody tr th:only-of-type {\n",
       "        vertical-align: middle;\n",
       "    }\n",
       "\n",
       "    .dataframe tbody tr th {\n",
       "        vertical-align: top;\n",
       "    }\n",
       "\n",
       "    .dataframe thead th {\n",
       "        text-align: right;\n",
       "    }\n",
       "</style>\n",
       "<table border=\"1\" class=\"dataframe\">\n",
       "  <thead>\n",
       "    <tr style=\"text-align: right;\">\n",
       "      <th></th>\n",
       "      <th>Accuracy</th>\n",
       "      <th>Precision</th>\n",
       "      <th>Recall</th>\n",
       "      <th>F1</th>\n",
       "    </tr>\n",
       "    <tr>\n",
       "      <th>classifier</th>\n",
       "      <th></th>\n",
       "      <th></th>\n",
       "      <th></th>\n",
       "      <th></th>\n",
       "    </tr>\n",
       "  </thead>\n",
       "  <tbody>\n",
       "    <tr>\n",
       "      <th>classification_pl</th>\n",
       "      <td>0.488364</td>\n",
       "      <td>0.319098</td>\n",
       "      <td>0.344935</td>\n",
       "      <td>0.155568</td>\n",
       "    </tr>\n",
       "    <tr>\n",
       "      <th>classification_faces</th>\n",
       "      <td>0.472087</td>\n",
       "      <td>0.313446</td>\n",
       "      <td>0.340447</td>\n",
       "      <td>0.130099</td>\n",
       "    </tr>\n",
       "    <tr>\n",
       "      <th>classification_coverage</th>\n",
       "      <td>0.663647</td>\n",
       "      <td>0.407231</td>\n",
       "      <td>0.451757</td>\n",
       "      <td>0.342944</td>\n",
       "    </tr>\n",
       "    <tr>\n",
       "      <th>classification_spread_v1</th>\n",
       "      <td>0.828620</td>\n",
       "      <td>0.592552</td>\n",
       "      <td>0.523357</td>\n",
       "      <td>0.515868</td>\n",
       "    </tr>\n",
       "    <tr>\n",
       "      <th>classification_spread_and_density</th>\n",
       "      <td>0.484902</td>\n",
       "      <td>0.436800</td>\n",
       "      <td>0.349373</td>\n",
       "      <td>0.153941</td>\n",
       "    </tr>\n",
       "    <tr>\n",
       "      <th>classification_spread_or_density</th>\n",
       "      <td>0.842908</td>\n",
       "      <td>0.648381</td>\n",
       "      <td>0.595442</td>\n",
       "      <td>0.609890</td>\n",
       "    </tr>\n",
       "  </tbody>\n",
       "</table>\n",
       "</div>"
      ],
      "text/plain": [
       "                                   Accuracy  Precision    Recall        F1\n",
       "classifier                                                                \n",
       "classification_pl                  0.488364   0.319098  0.344935  0.155568\n",
       "classification_faces               0.472087   0.313446  0.340447  0.130099\n",
       "classification_coverage            0.663647   0.407231  0.451757  0.342944\n",
       "classification_spread_v1           0.828620   0.592552  0.523357  0.515868\n",
       "classification_spread_and_density  0.484902   0.436800  0.349373  0.153941\n",
       "classification_spread_or_density   0.842908   0.648381  0.595442  0.609890"
      ]
     },
     "execution_count": 17,
     "metadata": {},
     "output_type": "execute_result"
    }
   ],
   "source": [
    "#Computing Average performance scores for class MET\n",
    "avg_met_results_dict= {'classifier':[],'Accuracy':[],'Precision':[],'Recall':[],'F1':[]}\n",
    "for classifier in classifier_metrics_df_list:\n",
    "    avg_met_results_dict['classifier'].append(classifier.name)\n",
    "    avg_met_results_dict['Accuracy'].append(classifier['Acc'].sum()/3)\n",
    "    avg_met_results_dict['Precision'].append(classifier['Pr'].sum()/3)\n",
    "    avg_met_results_dict['Recall'].append(classifier['Rc'].sum()/3)\n",
    "    avg_met_results_dict['F1'].append(classifier['F1'].sum()/3)\n",
    "avg_met_results_df = pd.DataFrame(avg_met_results_dict)\n",
    "avg_met_results_df.set_index('classifier',inplace=True)\n",
    "avg_met_results_df\n",
    "    "
   ]
  },
  {
   "cell_type": "code",
   "execution_count": 18,
   "metadata": {},
   "outputs": [
    {
     "data": {
      "image/png": "[encoded data removed]",
      "text/plain": [
       "<Figure size 1440x720 with 1 Axes>"
      ]
     },
     "metadata": {
      "needs_background": "light"
     },
     "output_type": "display_data"
    }
   ],
   "source": [
    "\n",
    "ax1 = avg_met_results_df.plot.bar(rot=0,figsize=(20,10))"
   ]
  },
  {
   "cell_type": "markdown",
   "metadata": {},
   "source": [
    "Even here, for all entries that belong to MET, we observe that the 4th and last classifiers are relatively better than the others i.e classification_spread_v1, and classificaiton_spread_or_density. We can say that the last classifier performs best in this case as well since the other metrics of Precision, Recall, and F1 are also a bit higher as compared to the 4th classifier"
   ]
  },
  {
   "cell_type": "code",
   "execution_count": null,
   "metadata": {},
   "outputs": [],
   "source": []
  }
 ],
 "metadata": {
  "kernelspec": {
   "display_name": "Python 3",
   "language": "python",
   "name": "python3"
  },
  "language_info": {
   "codemirror_mode": {
    "name": "ipython",
    "version": 3
   },
   "file_extension": ".py",
   "mimetype": "text/x-python",
   "name": "python",
   "nbconvert_exporter": "python",
   "pygments_lexer": "ipython3",
   "version": "3.8.5"
  }
 },
 "nbformat": 4,
 "nbformat_minor": 4
}
