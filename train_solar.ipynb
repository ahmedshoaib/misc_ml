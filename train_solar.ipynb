{
 "cells": [
  {
   "cell_type": "code",
   "execution_count": null,
   "metadata": {},
   "outputs": [],
   "source": []
  },
  {
   "cell_type": "code",
   "execution_count": null,
   "metadata": {},
   "outputs": [],
   "source": []
  },
  {
   "cell_type": "code",
   "execution_count": null,
   "metadata": {},
   "outputs": [],
   "source": []
  },
  {
   "cell_type": "code",
   "execution_count": null,
   "metadata": {},
   "outputs": [],
   "source": []
  },
  {
   "cell_type": "code",
   "execution_count": 1,
   "metadata": {},
   "outputs": [
    {
     "name": "stderr",
     "output_type": "stream",
     "text": [
      "Matplotlib is building the font cache; this may take a moment.\n"
     ]
    }
   ],
   "source": [
    "from matplotlib import pyplot as plt\n",
    "import os\n",
    "import cv2 #import OpenCV\n",
    "\n",
    "def show_image_mask_mask(img, mask,out, cmap='gray'): # function shows image and 2 masks \n",
    "    fig = plt.figure(figsize=(5,5))\n",
    "    plt.subplot(1, 3, 1,label='image')\n",
    "    plt.imshow(img)\n",
    "    plt.axis('off')\n",
    "    \n",
    "    plt.subplot(1, 3, 2,label='mask')\n",
    "    plt.imshow(mask, cmap=cmap)\n",
    "    plt.axis('off')\n",
    "    plt.subplot(1, 3, 3,label='predicted mask')\n",
    "    plt.imshow(out, cmap=cmap)\n",
    "    plt.axis('off')\n",
    "\n",
    "def show_image_mask(img, mask, cmap='gray'): # known function that shows an image and a mask\n",
    "    fig = plt.figure(figsize=(5,5))\n",
    "    plt.subplot(1, 2, 1)\n",
    "    plt.imshow(img)\n",
    "    plt.axis('off')\n",
    "    plt.subplot(1, 2, 2)\n",
    "    plt.imshow(mask, cmap=cmap)\n",
    "    plt.axis('off')\n",
    "\n",
    "\n",
    "data_dir = './data/'\n",
    "\n",
    "#show_image_mask(img, label*20, cmap='gray')\n",
    "#plt.pause(1)\n"
   ]
  },
  {
   "cell_type": "code",
   "execution_count": 2,
   "metadata": {},
   "outputs": [],
   "source": [
    "from torch.utils.data import DataLoader\n",
    "import torch,numpy as np\n",
    "import torch.utils.data as data\n",
    "import cv2\n",
    "import os\n",
    "from glob import glob\n",
    "import albumentations as A\n",
    "\n"
   ]
  },
  {
   "cell_type": "code",
   "execution_count": 3,
   "metadata": {},
   "outputs": [],
   "source": [
    "# m = cv2.imread('data/train/labels/PV01_324951_1203793_label.bmp',0)"
   ]
  },
  {
   "cell_type": "code",
   "execution_count": 4,
   "metadata": {},
   "outputs": [],
   "source": [
    "#m.shape"
   ]
  },
  {
   "cell_type": "code",
   "execution_count": 5,
   "metadata": {},
   "outputs": [],
   "source": [
    "#np.unique(m)"
   ]
  },
  {
   "cell_type": "code",
   "execution_count": 6,
   "metadata": {},
   "outputs": [],
   "source": [
    "#show_image_mask(m,m)"
   ]
  },
  {
   "cell_type": "code",
   "execution_count": 7,
   "metadata": {},
   "outputs": [],
   "source": [
    "#mask0 = (m==0)"
   ]
  },
  {
   "cell_type": "code",
   "execution_count": 8,
   "metadata": {},
   "outputs": [],
   "source": [
    "#mask1 = (m>0)"
   ]
  },
  {
   "cell_type": "code",
   "execution_count": 9,
   "metadata": {},
   "outputs": [],
   "source": [
    "#show_image_mask_mask(m,mask0*255,mask1*255)"
   ]
  },
  {
   "cell_type": "code",
   "execution_count": 10,
   "metadata": {},
   "outputs": [],
   "source": [
    "#np.array([mask0,mask1]).shape"
   ]
  },
  {
   "cell_type": "code",
   "execution_count": null,
   "metadata": {},
   "outputs": [],
   "source": []
  },
  {
   "cell_type": "code",
   "execution_count": null,
   "metadata": {},
   "outputs": [],
   "source": []
  },
  {
   "cell_type": "code",
   "execution_count": null,
   "metadata": {},
   "outputs": [],
   "source": []
  },
  {
   "cell_type": "code",
   "execution_count": 11,
   "metadata": {},
   "outputs": [],
   "source": [
    "#for i in range(3):\n",
    "#    transformed =  transform(image=img,mask=label)\n",
    "#    show_image_mask(transformed['image'], transformed['mask'], cmap='gray')"
   ]
  },
  {
   "cell_type": "code",
   "execution_count": 12,
   "metadata": {},
   "outputs": [],
   "source": [
    "from albumentations.pytorch import ToTensorV2\n",
    "transform = A.Compose([\n",
    "    A.RandomCrop(256,256,always_apply=True, p=1.0),\n",
    "    A.HorizontalFlip(p=0.5),\n",
    "    A.VerticalFlip(p=0.5),\n",
    "    A.RandomRotate90(p=0.5),\n",
    "    A.Normalize(mean=(0.485, 0.456, 0.406), std=(0.229, 0.224, 0.225),max_pixel_value=255.0, p=1.0),\n",
    "    ToTensorV2(),\n",
    "    \n",
    "])\n",
    "\n",
    "\n",
    "class TrainDataset(data.Dataset):\n",
    "    def __init__(self, root='./data/train'):\n",
    "        super(TrainDataset, self).__init__()\n",
    "        self.img_files = glob(os.path.join(root,'*.bmp'))\n",
    "        self.mask_files = []\n",
    "        for img_path in self.img_files:\n",
    "            basename = os.path.basename(img_path)\n",
    "            self.mask_files.append(os.path.join(root,'labels',basename[:-4]+'_label.bmp'))\n",
    "            \n",
    "\n",
    "    def __getitem__(self, index):\n",
    "            global transform\n",
    "            img_path = self.img_files[index]\n",
    "            mask_path = self.mask_files[index]\n",
    "            data = cv2.imread(img_path, cv2.IMREAD_UNCHANGED)\n",
    "            data = cv2.cvtColor(data, cv2.COLOR_BGR2RGB)\n",
    "            label = cv2.imread(mask_path,0)\n",
    "            #mask0 = (label==0)\n",
    "            #mask1 = (label>0)\n",
    "            #label_processed = np.array([mask0,mask1])\n",
    "            \n",
    "            transformed =  transform(image=data,mask=label)\n",
    "            #print(transformed['mask'], transformed['mask'].shape)\n",
    "            mask0 = (transformed['mask'] == 0)\n",
    "            mask1 = (transformed['mask'] > 0)\n",
    "            ll = np.array([mask0.numpy(),mask1.numpy()],dtype=np.uint8)\n",
    "            #print(ll.shape,np.unique(ll))\n",
    "            label_processed = torch.from_numpy(ll)\n",
    "\n",
    "            return transformed['image'],label_processed\n",
    "        \n",
    "    def __len__(self):\n",
    "        return len(self.img_files)\n",
    "    \n",
    "    \n",
    "class ValDataset(data.Dataset):\n",
    "    def __init__(self, root='./data/test'):\n",
    "        super(ValDataset, self).__init__()\n",
    "        self.img_files = glob(os.path.join(root,'*.bmp'))\n",
    "        self.mask_files = []\n",
    "        for img_path in self.img_files:\n",
    "            basename = os.path.basename(img_path)\n",
    "            self.mask_files.append(os.path.join(root,'labels',basename[:-4]+'_label.bmp'))\n",
    "            \n",
    "\n",
    "    def __getitem__(self, index):\n",
    "            global transform\n",
    "            img_path = self.img_files[index]\n",
    "            mask_path = self.mask_files[index]\n",
    "            data = cv2.imread(img_path, cv2.IMREAD_UNCHANGED)\n",
    "            data = cv2.cvtColor(data, cv2.COLOR_BGR2RGB)\n",
    "            label = cv2.imread(mask_path,0)\n",
    "            #mask0 = (label==0)\n",
    "            #mask1 = (label>0)\n",
    "            #label_processed = np.array([mask0,mask1])\n",
    "            \n",
    "            transformed =  transform(image=data,mask=label)\n",
    "            #print(transformed['mask'], transformed['mask'].shape)\n",
    "            mask0 = (transformed['mask'] == 0)\n",
    "            mask1 = (transformed['mask'] > 0)\n",
    "            ll = np.array([mask0.numpy(),mask1.numpy()],dtype=np.uint8)\n",
    "            #print(ll.shape,np.unique(ll))\n",
    "            label_processed = torch.from_numpy(ll)\n",
    "\n",
    "            return transformed['image'],label_processed\n",
    "\n",
    "    def __len__(self):\n",
    "        return len(self.img_files)"
   ]
  },
  {
   "cell_type": "code",
   "execution_count": 38,
   "metadata": {},
   "outputs": [],
   "source": [
    "import segmentation_models_pytorch as smp\n",
    "\n",
    "model = smp.PAN(\n",
    "    encoder_name=\"efficientnet-b7\",        # choose encoder, e.g. mobilenet_v2 or efficientnet-b7\n",
    "    encoder_weights=\"imagenet\",     # use `imagenet` pre-trained weights for encoder initialization\n",
    "    in_channels=3,                  # model input channels (1 for gray-scale images, 3 for RGB, etc.)\n",
    "    classes=2,                      # model output channels (number of classes in your dataset)\n",
    ")"
   ]
  },
  {
   "cell_type": "code",
   "execution_count": 39,
   "metadata": {},
   "outputs": [],
   "source": [
    "import matplotlib.pyplot as plt\n",
    "def plot_losses(epoch_train_losses=[], epoch_val_losses=[]): \n",
    "    plt.plot(epoch_train_losses,label='train')\n",
    "    plt.plot(epoch_val_losses,label='val')\n",
    "    #plt.plot(eval_cpu_percents,label='Eval')\n",
    "    plt.ylabel('Loss')\n",
    "    plt.xlabel('Epochs')\n",
    "    plt.legend(loc=\"upper left\")\n",
    "    plt.savefig('loss.png')\n",
    "    plt.clf()"
   ]
  },
  {
   "cell_type": "code",
   "execution_count": null,
   "metadata": {},
   "outputs": [
    {
     "name": "stdout",
     "output_type": "stream",
     "text": [
      "The current device is cuda:0\n"
     ]
    }
   ],
   "source": [
    "import time\n",
    "\n",
    "\n",
    "device = torch.device(\"cuda:0\" if torch.cuda.is_available() else \"cpu\")\n",
    "print(f\"The current device is {device}\")\n",
    "\n",
    "#model=torch.load('u-effb4_100.pth')\n",
    "model.to(device)\n",
    "\n",
    "epochs = 50\n",
    "\n",
    "num_workers = 2\n",
    "batch_size = 4\n",
    "train_set = TrainDataset()\n",
    "training_data_loader = DataLoader(dataset=train_set, num_workers=num_workers, batch_size=batch_size, shuffle=True)\n",
    "\n",
    "val_set = ValDataset()\n",
    "val_data_loader = data.DataLoader(dataset=val_set, num_workers=num_workers, batch_size=batch_size, shuffle=True)\n",
    "\n",
    "\n",
    "\n",
    "loss_fn = torch.nn.BCEWithLogitsLoss()\n",
    "loss_fn_2 = smp.losses.DiceLoss('binary', classes=None, log_loss=True, from_logits=True,ignore_index=None, eps=1e-08)\n",
    "loss_fn_3 = smp.losses.FocalLoss('binary', alpha=None, gamma=3.0, ignore_index=None, reduction='mean', normalized=False, reduced_threshold=None)\n",
    "train_loss=[]\n",
    "\n",
    "\n",
    "opt = torch.optim.SGD(model.parameters(), lr=0.001, momentum=0.5)\n",
    "#opt = torch.optim.Adam(model.parameters(), lr=0.008)\n",
    "scheduler = torch.optim.lr_scheduler.ReduceLROnPlateau(opt, 'min')\n",
    "best_loss = 50\n",
    "val_loss = []\n",
    "for epoch in range(epochs):  # loop over the dataset multiple times\n",
    "    model.train()\n",
    "    running_loss = 0.0\n",
    "    counter = 0\n",
    "    for image,mask in training_data_loader:\n",
    "        \n",
    "        #image.to(device)\n",
    "        #mask.to(device)\n",
    "        counter += 1\n",
    "        image = image.to(device)\n",
    "        mask = mask.to(device)\n",
    "        mask = torch.unsqueeze(mask,1)\n",
    "        #print(image.shape,image.dtype,mask.shape,mask.dtype)\n",
    "        #print(image.shape)\n",
    "        out = model(image)\n",
    "        #print(out.shape,out.dtype)\n",
    "        loss = loss_fn_3(out,mask.float())\n",
    "        opt.zero_grad()\n",
    "        loss.backward()\n",
    "        opt.step()\n",
    "\n",
    "        # print statistics - epoch and loss\n",
    "        running_loss += loss.item()\n",
    "        #print(running_loss)\n",
    "        #break\n",
    "        \n",
    "    epoch_loss = running_loss/counter    \n",
    "    train_loss.append(epoch_loss)\n",
    "    print(epoch_loss,' - train loss for epoch ',epoch)\n",
    "    model.eval()\n",
    "    val_losser = 0.0\n",
    "    for (i,(image, mask)) in enumerate(val_data_loader):\n",
    "        image = image.to(device)\n",
    "        mask = mask.to(device)\n",
    "        mask = torch.unsqueeze(mask,1)\n",
    "        #print(image.shape)\n",
    "        out = model(image)\n",
    "        #print(out.shape)\n",
    "        loss = loss_fn_3(out,mask.float())\n",
    "        val_losser += loss.item()\n",
    "        #break\n",
    "    val_epoch_loss = val_losser/(i+1)\n",
    "    print(val_epoch_loss,' - Val loss for epoch ',epoch)\n",
    "    val_loss.append(val_epoch_loss)\n",
    "\n",
    "    if val_epoch_loss < best_loss:\n",
    "        print('saving best model at epoch ',epoch)\n",
    "        torch.save(model,'pan-eff_best.pth')\n",
    "        best_loss = val_epoch_loss\n",
    "    \n",
    "    time.sleep(1)\n",
    "    if epoch%10 == 0:\n",
    "        torch.save(model,'pan-eff_chckpnt.pth')\n",
    "        \n",
    "    \n",
    "        \n",
    "    \n",
    "        \n",
    "print('Finished Training')\n",
    "#plot_losses(train_loss,val_loss)\n",
    "#torch.save(model,'u-effb4_100.pth')\n",
    "plt.plot(train_loss,label='train')\n",
    "plt.plot(val_loss,label='val')\n",
    "#plt.plot(eval_cpu_percents,label='Eval')\n",
    "plt.ylabel('Loss')\n",
    "plt.xlabel('Epochs')\n",
    "plt.legend(loc=\"upper left\")\n",
    "plt.savefig('loss.png')\n",
    "\n"
   ]
  },
  {
   "cell_type": "code",
   "execution_count": 32,
   "metadata": {},
   "outputs": [
    {
     "data": {
      "image/png": "[encoded data removed]",
      "text/plain": [
       "<Figure size 432x288 with 1 Axes>"
      ]
     },
     "metadata": {
      "needs_background": "light"
     },
     "output_type": "display_data"
    }
   ],
   "source": [
    "\n",
    "plt.plot(train_loss,label='train')\n",
    "plt.plot(val_loss,label='val')\n",
    "#plt.plot(eval_cpu_percents,label='Eval')\n",
    "plt.ylabel('Loss')\n",
    "plt.xlabel('Epochs')\n",
    "plt.legend(loc=\"upper left\")\n",
    "plt.savefig('loss.png')"
   ]
  },
  {
   "cell_type": "code",
   "execution_count": null,
   "metadata": {},
   "outputs": [],
   "source": []
  }
 ],
 "metadata": {
  "kernelspec": {
   "display_name": "Python 3 (ipykernel)",
   "language": "python",
   "name": "python3"
  },
  "language_info": {
   "codemirror_mode": {
    "name": "ipython",
    "version": 3
   },
   "file_extension": ".py",
   "mimetype": "text/x-python",
   "name": "python",
   "nbconvert_exporter": "python",
   "pygments_lexer": "ipython3",
   "version": "3.7.10"
  }
 },
 "nbformat": 4,
 "nbformat_minor": 4
}
